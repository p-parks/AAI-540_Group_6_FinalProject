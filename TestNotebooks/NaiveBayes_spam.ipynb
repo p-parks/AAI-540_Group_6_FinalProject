{
  "nbformat": 4,
  "nbformat_minor": 0,
  "metadata": {
    "colab": {
      "provenance": [],
      "machine_shape": "hm",
      "gpuType": "T4"
    },
    "kernelspec": {
      "name": "python3",
      "display_name": "Python 3"
    },
    "language_info": {
      "name": "python"
    },
    "accelerator": "GPU"
  },
  "cells": [
    {
      "cell_type": "code",
      "source": [
        "# Mount Google Drive\n",
        "from google.colab import drive\n",
        "drive.mount('/content/drive')"
      ],
      "metadata": {
        "colab": {
          "base_uri": "https://localhost:8080/"
        },
        "id": "5lnp7SzFd8ts",
        "outputId": "029ffc84-d579-467b-877d-aed77a1a128f"
      },
      "execution_count": 1,
      "outputs": [
        {
          "output_type": "stream",
          "name": "stdout",
          "text": [
            "Drive already mounted at /content/drive; to attempt to forcibly remount, call drive.mount(\"/content/drive\", force_remount=True).\n"
          ]
        }
      ]
    },
    {
      "cell_type": "code",
      "execution_count": 16,
      "metadata": {
        "id": "zuYkcoZ8c4VK"
      },
      "outputs": [],
      "source": [
        "import torch\n",
        "import torch.nn as nn\n",
        "import pandas as pd\n",
        "import numpy as np\n",
        "from sklearn.model_selection import train_test_split\n",
        "from sklearn.feature_extraction.text import TfidfVectorizer\n",
        "from sklearn.naive_bayes import GaussianNB\n",
        "from sklearn.metrics import accuracy_score, precision_score, recall_score, f1_score"
      ]
    },
    {
      "cell_type": "code",
      "source": [
        "# Read the data\n",
        "df = pd.read_csv('/content/drive/MyDrive/ColabNotebooks/AAI540/FinalProject/CEAS_08_cleaned.csv')\n",
        "df.head(5)"
      ],
      "metadata": {
        "colab": {
          "base_uri": "https://localhost:8080/",
          "height": 206
        },
        "id": "xkZt6PH6d1Lp",
        "outputId": "bcf10def-cb02-4813-a84e-3acad8e87e49"
      },
      "execution_count": 3,
      "outputs": [
        {
          "output_type": "execute_result",
          "data": {
            "text/plain": [
              "                                              sender  \\\n",
              "0                   Young Esposito <Young@iworld.de>   \n",
              "1                       Mok <ipline's1983@icable.ph>   \n",
              "2  Daily Top 10 <Karmandeep-opengevl@universalnet...   \n",
              "3                 Michael Parker <ivqrnai@pobox.com>   \n",
              "4  Gretchen Suggs <externalsep1@loanofficertool.com>   \n",
              "\n",
              "                                             subject  \\\n",
              "0                          Never agree to be a loser   \n",
              "1                             Befriend Jenna Jameson   \n",
              "2                               CNN.com Daily Top 10   \n",
              "3  Re: svn commit: r619753 - in /spamassassin/tru...   \n",
              "4                         SpecialPricesPharmMoreinfo   \n",
              "\n",
              "                                                body  label  urls  \n",
              "0  Buck up, your troubles caused by small dimensi...      1     1  \n",
              "1  \\nUpgrade your sex and pleasures with these te...      1     1  \n",
              "2  >+=+=+=+=+=+=+=+=+=+=+=+=+=+=+=+=+=+=+=+=+=+=+...      1     1  \n",
              "3  Would anyone object to removing .so from this ...      0     1  \n",
              "4  \\nWelcomeFastShippingCustomerSupport\\nhttp://7...      1     1  "
            ],
            "text/html": [
              "\n",
              "  <div id=\"df-9cb1817f-eb1f-47c4-8808-94a6f1b7e2f0\" class=\"colab-df-container\">\n",
              "    <div>\n",
              "<style scoped>\n",
              "    .dataframe tbody tr th:only-of-type {\n",
              "        vertical-align: middle;\n",
              "    }\n",
              "\n",
              "    .dataframe tbody tr th {\n",
              "        vertical-align: top;\n",
              "    }\n",
              "\n",
              "    .dataframe thead th {\n",
              "        text-align: right;\n",
              "    }\n",
              "</style>\n",
              "<table border=\"1\" class=\"dataframe\">\n",
              "  <thead>\n",
              "    <tr style=\"text-align: right;\">\n",
              "      <th></th>\n",
              "      <th>sender</th>\n",
              "      <th>subject</th>\n",
              "      <th>body</th>\n",
              "      <th>label</th>\n",
              "      <th>urls</th>\n",
              "    </tr>\n",
              "  </thead>\n",
              "  <tbody>\n",
              "    <tr>\n",
              "      <th>0</th>\n",
              "      <td>Young Esposito &lt;Young@iworld.de&gt;</td>\n",
              "      <td>Never agree to be a loser</td>\n",
              "      <td>Buck up, your troubles caused by small dimensi...</td>\n",
              "      <td>1</td>\n",
              "      <td>1</td>\n",
              "    </tr>\n",
              "    <tr>\n",
              "      <th>1</th>\n",
              "      <td>Mok &lt;ipline's1983@icable.ph&gt;</td>\n",
              "      <td>Befriend Jenna Jameson</td>\n",
              "      <td>\\nUpgrade your sex and pleasures with these te...</td>\n",
              "      <td>1</td>\n",
              "      <td>1</td>\n",
              "    </tr>\n",
              "    <tr>\n",
              "      <th>2</th>\n",
              "      <td>Daily Top 10 &lt;Karmandeep-opengevl@universalnet...</td>\n",
              "      <td>CNN.com Daily Top 10</td>\n",
              "      <td>&gt;+=+=+=+=+=+=+=+=+=+=+=+=+=+=+=+=+=+=+=+=+=+=+...</td>\n",
              "      <td>1</td>\n",
              "      <td>1</td>\n",
              "    </tr>\n",
              "    <tr>\n",
              "      <th>3</th>\n",
              "      <td>Michael Parker &lt;ivqrnai@pobox.com&gt;</td>\n",
              "      <td>Re: svn commit: r619753 - in /spamassassin/tru...</td>\n",
              "      <td>Would anyone object to removing .so from this ...</td>\n",
              "      <td>0</td>\n",
              "      <td>1</td>\n",
              "    </tr>\n",
              "    <tr>\n",
              "      <th>4</th>\n",
              "      <td>Gretchen Suggs &lt;externalsep1@loanofficertool.com&gt;</td>\n",
              "      <td>SpecialPricesPharmMoreinfo</td>\n",
              "      <td>\\nWelcomeFastShippingCustomerSupport\\nhttp://7...</td>\n",
              "      <td>1</td>\n",
              "      <td>1</td>\n",
              "    </tr>\n",
              "  </tbody>\n",
              "</table>\n",
              "</div>\n",
              "    <div class=\"colab-df-buttons\">\n",
              "\n",
              "  <div class=\"colab-df-container\">\n",
              "    <button class=\"colab-df-convert\" onclick=\"convertToInteractive('df-9cb1817f-eb1f-47c4-8808-94a6f1b7e2f0')\"\n",
              "            title=\"Convert this dataframe to an interactive table.\"\n",
              "            style=\"display:none;\">\n",
              "\n",
              "  <svg xmlns=\"http://www.w3.org/2000/svg\" height=\"24px\" viewBox=\"0 -960 960 960\">\n",
              "    <path d=\"M120-120v-720h720v720H120Zm60-500h600v-160H180v160Zm220 220h160v-160H400v160Zm0 220h160v-160H400v160ZM180-400h160v-160H180v160Zm440 0h160v-160H620v160ZM180-180h160v-160H180v160Zm440 0h160v-160H620v160Z\"/>\n",
              "  </svg>\n",
              "    </button>\n",
              "\n",
              "  <style>\n",
              "    .colab-df-container {\n",
              "      display:flex;\n",
              "      gap: 12px;\n",
              "    }\n",
              "\n",
              "    .colab-df-convert {\n",
              "      background-color: #E8F0FE;\n",
              "      border: none;\n",
              "      border-radius: 50%;\n",
              "      cursor: pointer;\n",
              "      display: none;\n",
              "      fill: #1967D2;\n",
              "      height: 32px;\n",
              "      padding: 0 0 0 0;\n",
              "      width: 32px;\n",
              "    }\n",
              "\n",
              "    .colab-df-convert:hover {\n",
              "      background-color: #E2EBFA;\n",
              "      box-shadow: 0px 1px 2px rgba(60, 64, 67, 0.3), 0px 1px 3px 1px rgba(60, 64, 67, 0.15);\n",
              "      fill: #174EA6;\n",
              "    }\n",
              "\n",
              "    .colab-df-buttons div {\n",
              "      margin-bottom: 4px;\n",
              "    }\n",
              "\n",
              "    [theme=dark] .colab-df-convert {\n",
              "      background-color: #3B4455;\n",
              "      fill: #D2E3FC;\n",
              "    }\n",
              "\n",
              "    [theme=dark] .colab-df-convert:hover {\n",
              "      background-color: #434B5C;\n",
              "      box-shadow: 0px 1px 3px 1px rgba(0, 0, 0, 0.15);\n",
              "      filter: drop-shadow(0px 1px 2px rgba(0, 0, 0, 0.3));\n",
              "      fill: #FFFFFF;\n",
              "    }\n",
              "  </style>\n",
              "\n",
              "    <script>\n",
              "      const buttonEl =\n",
              "        document.querySelector('#df-9cb1817f-eb1f-47c4-8808-94a6f1b7e2f0 button.colab-df-convert');\n",
              "      buttonEl.style.display =\n",
              "        google.colab.kernel.accessAllowed ? 'block' : 'none';\n",
              "\n",
              "      async function convertToInteractive(key) {\n",
              "        const element = document.querySelector('#df-9cb1817f-eb1f-47c4-8808-94a6f1b7e2f0');\n",
              "        const dataTable =\n",
              "          await google.colab.kernel.invokeFunction('convertToInteractive',\n",
              "                                                    [key], {});\n",
              "        if (!dataTable) return;\n",
              "\n",
              "        const docLinkHtml = 'Like what you see? Visit the ' +\n",
              "          '<a target=\"_blank\" href=https://colab.research.google.com/notebooks/data_table.ipynb>data table notebook</a>'\n",
              "          + ' to learn more about interactive tables.';\n",
              "        element.innerHTML = '';\n",
              "        dataTable['output_type'] = 'display_data';\n",
              "        await google.colab.output.renderOutput(dataTable, element);\n",
              "        const docLink = document.createElement('div');\n",
              "        docLink.innerHTML = docLinkHtml;\n",
              "        element.appendChild(docLink);\n",
              "      }\n",
              "    </script>\n",
              "  </div>\n",
              "\n",
              "\n",
              "<div id=\"df-5e20ce20-0a4b-4c88-9f54-531d51032ce6\">\n",
              "  <button class=\"colab-df-quickchart\" onclick=\"quickchart('df-5e20ce20-0a4b-4c88-9f54-531d51032ce6')\"\n",
              "            title=\"Suggest charts\"\n",
              "            style=\"display:none;\">\n",
              "\n",
              "<svg xmlns=\"http://www.w3.org/2000/svg\" height=\"24px\"viewBox=\"0 0 24 24\"\n",
              "     width=\"24px\">\n",
              "    <g>\n",
              "        <path d=\"M19 3H5c-1.1 0-2 .9-2 2v14c0 1.1.9 2 2 2h14c1.1 0 2-.9 2-2V5c0-1.1-.9-2-2-2zM9 17H7v-7h2v7zm4 0h-2V7h2v10zm4 0h-2v-4h2v4z\"/>\n",
              "    </g>\n",
              "</svg>\n",
              "  </button>\n",
              "\n",
              "<style>\n",
              "  .colab-df-quickchart {\n",
              "      --bg-color: #E8F0FE;\n",
              "      --fill-color: #1967D2;\n",
              "      --hover-bg-color: #E2EBFA;\n",
              "      --hover-fill-color: #174EA6;\n",
              "      --disabled-fill-color: #AAA;\n",
              "      --disabled-bg-color: #DDD;\n",
              "  }\n",
              "\n",
              "  [theme=dark] .colab-df-quickchart {\n",
              "      --bg-color: #3B4455;\n",
              "      --fill-color: #D2E3FC;\n",
              "      --hover-bg-color: #434B5C;\n",
              "      --hover-fill-color: #FFFFFF;\n",
              "      --disabled-bg-color: #3B4455;\n",
              "      --disabled-fill-color: #666;\n",
              "  }\n",
              "\n",
              "  .colab-df-quickchart {\n",
              "    background-color: var(--bg-color);\n",
              "    border: none;\n",
              "    border-radius: 50%;\n",
              "    cursor: pointer;\n",
              "    display: none;\n",
              "    fill: var(--fill-color);\n",
              "    height: 32px;\n",
              "    padding: 0;\n",
              "    width: 32px;\n",
              "  }\n",
              "\n",
              "  .colab-df-quickchart:hover {\n",
              "    background-color: var(--hover-bg-color);\n",
              "    box-shadow: 0 1px 2px rgba(60, 64, 67, 0.3), 0 1px 3px 1px rgba(60, 64, 67, 0.15);\n",
              "    fill: var(--button-hover-fill-color);\n",
              "  }\n",
              "\n",
              "  .colab-df-quickchart-complete:disabled,\n",
              "  .colab-df-quickchart-complete:disabled:hover {\n",
              "    background-color: var(--disabled-bg-color);\n",
              "    fill: var(--disabled-fill-color);\n",
              "    box-shadow: none;\n",
              "  }\n",
              "\n",
              "  .colab-df-spinner {\n",
              "    border: 2px solid var(--fill-color);\n",
              "    border-color: transparent;\n",
              "    border-bottom-color: var(--fill-color);\n",
              "    animation:\n",
              "      spin 1s steps(1) infinite;\n",
              "  }\n",
              "\n",
              "  @keyframes spin {\n",
              "    0% {\n",
              "      border-color: transparent;\n",
              "      border-bottom-color: var(--fill-color);\n",
              "      border-left-color: var(--fill-color);\n",
              "    }\n",
              "    20% {\n",
              "      border-color: transparent;\n",
              "      border-left-color: var(--fill-color);\n",
              "      border-top-color: var(--fill-color);\n",
              "    }\n",
              "    30% {\n",
              "      border-color: transparent;\n",
              "      border-left-color: var(--fill-color);\n",
              "      border-top-color: var(--fill-color);\n",
              "      border-right-color: var(--fill-color);\n",
              "    }\n",
              "    40% {\n",
              "      border-color: transparent;\n",
              "      border-right-color: var(--fill-color);\n",
              "      border-top-color: var(--fill-color);\n",
              "    }\n",
              "    60% {\n",
              "      border-color: transparent;\n",
              "      border-right-color: var(--fill-color);\n",
              "    }\n",
              "    80% {\n",
              "      border-color: transparent;\n",
              "      border-right-color: var(--fill-color);\n",
              "      border-bottom-color: var(--fill-color);\n",
              "    }\n",
              "    90% {\n",
              "      border-color: transparent;\n",
              "      border-bottom-color: var(--fill-color);\n",
              "    }\n",
              "  }\n",
              "</style>\n",
              "\n",
              "  <script>\n",
              "    async function quickchart(key) {\n",
              "      const quickchartButtonEl =\n",
              "        document.querySelector('#' + key + ' button');\n",
              "      quickchartButtonEl.disabled = true;  // To prevent multiple clicks.\n",
              "      quickchartButtonEl.classList.add('colab-df-spinner');\n",
              "      try {\n",
              "        const charts = await google.colab.kernel.invokeFunction(\n",
              "            'suggestCharts', [key], {});\n",
              "      } catch (error) {\n",
              "        console.error('Error during call to suggestCharts:', error);\n",
              "      }\n",
              "      quickchartButtonEl.classList.remove('colab-df-spinner');\n",
              "      quickchartButtonEl.classList.add('colab-df-quickchart-complete');\n",
              "    }\n",
              "    (() => {\n",
              "      let quickchartButtonEl =\n",
              "        document.querySelector('#df-5e20ce20-0a4b-4c88-9f54-531d51032ce6 button');\n",
              "      quickchartButtonEl.style.display =\n",
              "        google.colab.kernel.accessAllowed ? 'block' : 'none';\n",
              "    })();\n",
              "  </script>\n",
              "</div>\n",
              "\n",
              "    </div>\n",
              "  </div>\n"
            ],
            "application/vnd.google.colaboratory.intrinsic+json": {
              "type": "dataframe",
              "variable_name": "df",
              "summary": "{\n  \"name\": \"df\",\n  \"rows\": 39154,\n  \"fields\": [\n    {\n      \"column\": \"sender\",\n      \"properties\": {\n        \"dtype\": \"string\",\n        \"num_unique_values\": 24578,\n        \"samples\": [\n          \"Penny Lang <ilpbw@UAH.EDU>\",\n          \"CNN Alerts <Durham-spanswic@4everfriday.co.uk>\",\n          \"Nick Gall <clfb.uzba@gmail.com>\"\n        ],\n        \"semantic_type\": \"\",\n        \"description\": \"\"\n      }\n    },\n    {\n      \"column\": \"subject\",\n      \"properties\": {\n        \"dtype\": \"category\",\n        \"num_unique_values\": 15436,\n        \"samples\": [\n          \"Order Rolex R*p!ic@ //atches 0nline!  uhz maulhg jutl\",\n          \"Re: [opensuse] WHOIS \\\"Banning someone out of personal spite is uncalled for fascism\\\"\",\n          \"Re: [python-win32] Getting security permissions for folders on\\tremote file share\"\n        ],\n        \"semantic_type\": \"\",\n        \"description\": \"\"\n      }\n    },\n    {\n      \"column\": \"body\",\n      \"properties\": {\n        \"dtype\": \"string\",\n        \"num_unique_values\": 39154,\n        \"samples\": [\n          \"Also, the sa-blacklist inclusion policy is at:\\n\\n   http://www.stearns.org/sa-blacklist/README.policy\\n\\nJeff C.\\n\\n\\n\",\n          \"\\nSize DOES matter - change your life today!\\n\\nAmazing growth within just a few short weeks is possible with this breakthrough! Just two capsules a day, and you can start enjoying a larger, more powerful you. \\n\\nhttp://waitfour.com/\\n\\n\\n\",\n          \">+=+=+=+=+=+=+=+=+=+=+=+=+=+=+=+=+=+=+=+=+=+=+=+=+=+=+=+=+=+= >THE DAILY TOP 10 >from CNN.com >Top videos and stories as of: Aug  1, 2008  3:58 PM EDT >+=+=+=+=+=+=+=+=+=+=+=+=+=+=+=+=+=+=+=+=+=+=+=+=+=+=+=+=+=+= TOP 10 VIDEOS 1. MOM PARTIES AT A CLUB http://www.cnn.com/video/partners/email/index.html?url=/video/crime/2008/08/05/ng.mom.pics.cnn Nancy Grace has new photos of Casey Anthony partying at a nightclub after her daughter Caylee vanished. 2. WOMAN'S COMPUTER SPIES ON HER http://www.cnn.com/video/partners/email/index.html?url=/video/tech/2008/08/05/pkg.webcam.spying.wcjb 3. TIGERS ATTACK TEEN AT ZOO http://www.cnn.com/video/partners/email/index.html?url=/video/us/2008/08/05/wuellner.tiger.attacks.teen.kytv 4. MISTRESS TESTIFIES IN TRIAL http://www.cnn.com/video/partners/email/index.html?url=/video/crime/2008/08/05/sot.love.triangle.zammitti.cnn 5. MAN CALLS 911 OVER SANDWICH http://www.cnn.com/video/partners/email/index.html?url=/video/crime/2008/08/05/spivey.911.call.sandwich.wtlv 6. JOHN 'JUNIOR' GOTTI ARRESTED http://www.cnn.com/video/partners/email/index.html?url=/video/us/2008/08/05/ny.gotti.jr.handcuffs.cnn 7. PASSENGERS SLIDE FROM PLANE http://www.cnn.com/video/partners/email/index.html?url=/video/us/2008/08/05/vo.aa.plane.evacuated.KTLA 8. PLANE EVACUATES PASSENGERS http://www.cnn.com/video/partners/email/index.html?url=/video/us/2008/08/05/nr.beeper.ca.plane.evacuate.cnn 9. PIPELINE FIRM HELPS SAVE GAS http://www.cnn.com/video/partners/email/index.html?url=/video/tech/2008/08/05/marciano.pipeline.telecommuting.cnn 10. 125,000 GORILLAS FOUND http://www.cnn.com/video/partners/email/index.html?url=/video/world/2008/08/05/vo.congo.gorilla.WCS TOP 10 STORIES 1. SMOKE FORCES EMERGENCY LANDING http://www.cnn.com/2008/US/08/05/emergency.landing/index.html Passengers evacuate an American Airlines jet by inflatable slides after an emergency landing at Los Angeles' airport, an official says. 2. HOPES FOR GORILLA SURVIVAL BOOSTED http://www.cnn.com/2008/WORLD/africa/08/05/congo.gorillas/index.html 3. STAY-AT-HOME WIVES WITHOUT KIDS http://www.cnn.com/2008/LIVING/wayoflife/08/05/lw.nokids.nojob.wives/index.html 4. COMMENTARY: IMMIGRANT SANCTUARIES http://www.cnn.com/2008/POLITICS/08/04/navarrette.immigration/index.html 5. FREEMAN RECOVERING AFTER SURGERY http://www.cnn.com/2008/SHOWBIZ/Movies/08/05/people.morgan.freeman.ap/index.html 6. JOHN \\\"JUNIOR\\\" GOTTI ARRESTED http://www.cnn.com/2008/CRIME/08/05/gotti.arrest/index.html 7. TOXIN DIMS HOPES FOR MARS LIFE http://www.cnn.com/2008/TECH/space/08/04/nasa.mars/index.html 8. THE LURE OF THE R-RATED COMEDY http://www.cnn.com/2008/SHOWBIZ/Movies/08/05/film.rrated.comedies.ap/index.html 9. STARBUCKS OFFERS AFTERNOON DEAL http://www.cnn.com/2008/US/08/05/starbucks.deal.ap/index.html 10. EDOUARD MAKES LANDFALL http://www.cnn.com/2008/US/weather/08/05/tropical.weather/index.html CNN, The Most Trusted Name in News >    Cable News Network LP, LLLP.                       < >    One CNN Center, Atlanta, Georgia 30303             < >    2008 Cable News Network LP, LLLP.                  < >    A Time Warner Company.                             < >    All Rights Reserved.                               < ========================================================= =   Please send comments or suggestions by going to     = =           http://www.cnn.com/feedback/                = =                                                       = =      Read our privacy guidelines by going to          = =         http://www.cnn.com/privacy.html               = ========================================================= You have agreed to receive this email from CNN.com as a result of your CNN.com preference settings. To manage your settings, go to: http://www.cnn.com/linkto/bn.manage.html To unsubscribe from the Daily Top 10, go to http://cgi.cnn.com/m/clik?e=f69494124a9b4bb2c4842eafa6666675@gvc.ceas-challenge.cc&l=cnn-dailytop10\"\n        ],\n        \"semantic_type\": \"\",\n        \"description\": \"\"\n      }\n    },\n    {\n      \"column\": \"label\",\n      \"properties\": {\n        \"dtype\": \"number\",\n        \"std\": 0,\n        \"min\": 0,\n        \"max\": 1,\n        \"num_unique_values\": 2,\n        \"samples\": [\n          0,\n          1\n        ],\n        \"semantic_type\": \"\",\n        \"description\": \"\"\n      }\n    },\n    {\n      \"column\": \"urls\",\n      \"properties\": {\n        \"dtype\": \"number\",\n        \"std\": 0,\n        \"min\": 0,\n        \"max\": 1,\n        \"num_unique_values\": 2,\n        \"samples\": [\n          0,\n          1\n        ],\n        \"semantic_type\": \"\",\n        \"description\": \"\"\n      }\n    }\n  ]\n}"
            }
          },
          "metadata": {},
          "execution_count": 3
        }
      ]
    },
    {
      "cell_type": "code",
      "source": [
        "df.shape"
      ],
      "metadata": {
        "colab": {
          "base_uri": "https://localhost:8080/"
        },
        "id": "WrUf4_XjgjAv",
        "outputId": "facf3ca7-5ea8-4d47-edc7-c6e043198a98"
      },
      "execution_count": 4,
      "outputs": [
        {
          "output_type": "execute_result",
          "data": {
            "text/plain": [
              "(39154, 5)"
            ]
          },
          "metadata": {},
          "execution_count": 4
        }
      ]
    },
    {
      "cell_type": "code",
      "source": [
        "# shorten data for now\n",
        "df = df[0:5000]"
      ],
      "metadata": {
        "id": "uaiLT2CrotHz"
      },
      "execution_count": 5,
      "outputs": []
    },
    {
      "cell_type": "code",
      "source": [
        "df.shape"
      ],
      "metadata": {
        "colab": {
          "base_uri": "https://localhost:8080/"
        },
        "id": "AO5WoYt6o0fg",
        "outputId": "d8f2d300-6d50-4b82-d057-85884bc06a0b"
      },
      "execution_count": 6,
      "outputs": [
        {
          "output_type": "execute_result",
          "data": {
            "text/plain": [
              "(5000, 5)"
            ]
          },
          "metadata": {},
          "execution_count": 6
        }
      ]
    },
    {
      "cell_type": "code",
      "source": [
        "# Concatenate the 'subject' and 'body' columns\n",
        "df['text'] = df['subject'] + ' ' + df['body']"
      ],
      "metadata": {
        "colab": {
          "base_uri": "https://localhost:8080/"
        },
        "id": "dw8XhUm2nxA2",
        "outputId": "5d789f07-c8dd-494b-e0bb-4bc667aa09f0"
      },
      "execution_count": 7,
      "outputs": [
        {
          "output_type": "stream",
          "name": "stderr",
          "text": [
            "<ipython-input-7-112a54b2c5e5>:2: SettingWithCopyWarning: \n",
            "A value is trying to be set on a copy of a slice from a DataFrame.\n",
            "Try using .loc[row_indexer,col_indexer] = value instead\n",
            "\n",
            "See the caveats in the documentation: https://pandas.pydata.org/pandas-docs/stable/user_guide/indexing.html#returning-a-view-versus-a-copy\n",
            "  df['text'] = df['subject'] + ' ' + df['body']\n"
          ]
        }
      ]
    },
    {
      "cell_type": "code",
      "source": [
        "df.head(5)"
      ],
      "metadata": {
        "colab": {
          "base_uri": "https://localhost:8080/",
          "height": 276
        },
        "id": "YfsgEY1LnquE",
        "outputId": "3865b327-0441-4bcf-81fb-8ebf661ec225"
      },
      "execution_count": 8,
      "outputs": [
        {
          "output_type": "execute_result",
          "data": {
            "text/plain": [
              "                                              sender  \\\n",
              "0                   Young Esposito <Young@iworld.de>   \n",
              "1                       Mok <ipline's1983@icable.ph>   \n",
              "2  Daily Top 10 <Karmandeep-opengevl@universalnet...   \n",
              "3                 Michael Parker <ivqrnai@pobox.com>   \n",
              "4  Gretchen Suggs <externalsep1@loanofficertool.com>   \n",
              "\n",
              "                                             subject  \\\n",
              "0                          Never agree to be a loser   \n",
              "1                             Befriend Jenna Jameson   \n",
              "2                               CNN.com Daily Top 10   \n",
              "3  Re: svn commit: r619753 - in /spamassassin/tru...   \n",
              "4                         SpecialPricesPharmMoreinfo   \n",
              "\n",
              "                                                body  label  urls  \\\n",
              "0  Buck up, your troubles caused by small dimensi...      1     1   \n",
              "1  \\nUpgrade your sex and pleasures with these te...      1     1   \n",
              "2  >+=+=+=+=+=+=+=+=+=+=+=+=+=+=+=+=+=+=+=+=+=+=+...      1     1   \n",
              "3  Would anyone object to removing .so from this ...      0     1   \n",
              "4  \\nWelcomeFastShippingCustomerSupport\\nhttp://7...      1     1   \n",
              "\n",
              "                                                text  \n",
              "0  Never agree to be a loser Buck up, your troubl...  \n",
              "1  Befriend Jenna Jameson \\nUpgrade your sex and ...  \n",
              "2  CNN.com Daily Top 10 >+=+=+=+=+=+=+=+=+=+=+=+=...  \n",
              "3  Re: svn commit: r619753 - in /spamassassin/tru...  \n",
              "4  SpecialPricesPharmMoreinfo \\nWelcomeFastShippi...  "
            ],
            "text/html": [
              "\n",
              "  <div id=\"df-5214dbcb-301e-4cbb-bef9-e469de86df08\" class=\"colab-df-container\">\n",
              "    <div>\n",
              "<style scoped>\n",
              "    .dataframe tbody tr th:only-of-type {\n",
              "        vertical-align: middle;\n",
              "    }\n",
              "\n",
              "    .dataframe tbody tr th {\n",
              "        vertical-align: top;\n",
              "    }\n",
              "\n",
              "    .dataframe thead th {\n",
              "        text-align: right;\n",
              "    }\n",
              "</style>\n",
              "<table border=\"1\" class=\"dataframe\">\n",
              "  <thead>\n",
              "    <tr style=\"text-align: right;\">\n",
              "      <th></th>\n",
              "      <th>sender</th>\n",
              "      <th>subject</th>\n",
              "      <th>body</th>\n",
              "      <th>label</th>\n",
              "      <th>urls</th>\n",
              "      <th>text</th>\n",
              "    </tr>\n",
              "  </thead>\n",
              "  <tbody>\n",
              "    <tr>\n",
              "      <th>0</th>\n",
              "      <td>Young Esposito &lt;Young@iworld.de&gt;</td>\n",
              "      <td>Never agree to be a loser</td>\n",
              "      <td>Buck up, your troubles caused by small dimensi...</td>\n",
              "      <td>1</td>\n",
              "      <td>1</td>\n",
              "      <td>Never agree to be a loser Buck up, your troubl...</td>\n",
              "    </tr>\n",
              "    <tr>\n",
              "      <th>1</th>\n",
              "      <td>Mok &lt;ipline's1983@icable.ph&gt;</td>\n",
              "      <td>Befriend Jenna Jameson</td>\n",
              "      <td>\\nUpgrade your sex and pleasures with these te...</td>\n",
              "      <td>1</td>\n",
              "      <td>1</td>\n",
              "      <td>Befriend Jenna Jameson \\nUpgrade your sex and ...</td>\n",
              "    </tr>\n",
              "    <tr>\n",
              "      <th>2</th>\n",
              "      <td>Daily Top 10 &lt;Karmandeep-opengevl@universalnet...</td>\n",
              "      <td>CNN.com Daily Top 10</td>\n",
              "      <td>&gt;+=+=+=+=+=+=+=+=+=+=+=+=+=+=+=+=+=+=+=+=+=+=+...</td>\n",
              "      <td>1</td>\n",
              "      <td>1</td>\n",
              "      <td>CNN.com Daily Top 10 &gt;+=+=+=+=+=+=+=+=+=+=+=+=...</td>\n",
              "    </tr>\n",
              "    <tr>\n",
              "      <th>3</th>\n",
              "      <td>Michael Parker &lt;ivqrnai@pobox.com&gt;</td>\n",
              "      <td>Re: svn commit: r619753 - in /spamassassin/tru...</td>\n",
              "      <td>Would anyone object to removing .so from this ...</td>\n",
              "      <td>0</td>\n",
              "      <td>1</td>\n",
              "      <td>Re: svn commit: r619753 - in /spamassassin/tru...</td>\n",
              "    </tr>\n",
              "    <tr>\n",
              "      <th>4</th>\n",
              "      <td>Gretchen Suggs &lt;externalsep1@loanofficertool.com&gt;</td>\n",
              "      <td>SpecialPricesPharmMoreinfo</td>\n",
              "      <td>\\nWelcomeFastShippingCustomerSupport\\nhttp://7...</td>\n",
              "      <td>1</td>\n",
              "      <td>1</td>\n",
              "      <td>SpecialPricesPharmMoreinfo \\nWelcomeFastShippi...</td>\n",
              "    </tr>\n",
              "  </tbody>\n",
              "</table>\n",
              "</div>\n",
              "    <div class=\"colab-df-buttons\">\n",
              "\n",
              "  <div class=\"colab-df-container\">\n",
              "    <button class=\"colab-df-convert\" onclick=\"convertToInteractive('df-5214dbcb-301e-4cbb-bef9-e469de86df08')\"\n",
              "            title=\"Convert this dataframe to an interactive table.\"\n",
              "            style=\"display:none;\">\n",
              "\n",
              "  <svg xmlns=\"http://www.w3.org/2000/svg\" height=\"24px\" viewBox=\"0 -960 960 960\">\n",
              "    <path d=\"M120-120v-720h720v720H120Zm60-500h600v-160H180v160Zm220 220h160v-160H400v160Zm0 220h160v-160H400v160ZM180-400h160v-160H180v160Zm440 0h160v-160H620v160ZM180-180h160v-160H180v160Zm440 0h160v-160H620v160Z\"/>\n",
              "  </svg>\n",
              "    </button>\n",
              "\n",
              "  <style>\n",
              "    .colab-df-container {\n",
              "      display:flex;\n",
              "      gap: 12px;\n",
              "    }\n",
              "\n",
              "    .colab-df-convert {\n",
              "      background-color: #E8F0FE;\n",
              "      border: none;\n",
              "      border-radius: 50%;\n",
              "      cursor: pointer;\n",
              "      display: none;\n",
              "      fill: #1967D2;\n",
              "      height: 32px;\n",
              "      padding: 0 0 0 0;\n",
              "      width: 32px;\n",
              "    }\n",
              "\n",
              "    .colab-df-convert:hover {\n",
              "      background-color: #E2EBFA;\n",
              "      box-shadow: 0px 1px 2px rgba(60, 64, 67, 0.3), 0px 1px 3px 1px rgba(60, 64, 67, 0.15);\n",
              "      fill: #174EA6;\n",
              "    }\n",
              "\n",
              "    .colab-df-buttons div {\n",
              "      margin-bottom: 4px;\n",
              "    }\n",
              "\n",
              "    [theme=dark] .colab-df-convert {\n",
              "      background-color: #3B4455;\n",
              "      fill: #D2E3FC;\n",
              "    }\n",
              "\n",
              "    [theme=dark] .colab-df-convert:hover {\n",
              "      background-color: #434B5C;\n",
              "      box-shadow: 0px 1px 3px 1px rgba(0, 0, 0, 0.15);\n",
              "      filter: drop-shadow(0px 1px 2px rgba(0, 0, 0, 0.3));\n",
              "      fill: #FFFFFF;\n",
              "    }\n",
              "  </style>\n",
              "\n",
              "    <script>\n",
              "      const buttonEl =\n",
              "        document.querySelector('#df-5214dbcb-301e-4cbb-bef9-e469de86df08 button.colab-df-convert');\n",
              "      buttonEl.style.display =\n",
              "        google.colab.kernel.accessAllowed ? 'block' : 'none';\n",
              "\n",
              "      async function convertToInteractive(key) {\n",
              "        const element = document.querySelector('#df-5214dbcb-301e-4cbb-bef9-e469de86df08');\n",
              "        const dataTable =\n",
              "          await google.colab.kernel.invokeFunction('convertToInteractive',\n",
              "                                                    [key], {});\n",
              "        if (!dataTable) return;\n",
              "\n",
              "        const docLinkHtml = 'Like what you see? Visit the ' +\n",
              "          '<a target=\"_blank\" href=https://colab.research.google.com/notebooks/data_table.ipynb>data table notebook</a>'\n",
              "          + ' to learn more about interactive tables.';\n",
              "        element.innerHTML = '';\n",
              "        dataTable['output_type'] = 'display_data';\n",
              "        await google.colab.output.renderOutput(dataTable, element);\n",
              "        const docLink = document.createElement('div');\n",
              "        docLink.innerHTML = docLinkHtml;\n",
              "        element.appendChild(docLink);\n",
              "      }\n",
              "    </script>\n",
              "  </div>\n",
              "\n",
              "\n",
              "<div id=\"df-0e680ad4-f184-4f6c-83cd-677c6254dc0c\">\n",
              "  <button class=\"colab-df-quickchart\" onclick=\"quickchart('df-0e680ad4-f184-4f6c-83cd-677c6254dc0c')\"\n",
              "            title=\"Suggest charts\"\n",
              "            style=\"display:none;\">\n",
              "\n",
              "<svg xmlns=\"http://www.w3.org/2000/svg\" height=\"24px\"viewBox=\"0 0 24 24\"\n",
              "     width=\"24px\">\n",
              "    <g>\n",
              "        <path d=\"M19 3H5c-1.1 0-2 .9-2 2v14c0 1.1.9 2 2 2h14c1.1 0 2-.9 2-2V5c0-1.1-.9-2-2-2zM9 17H7v-7h2v7zm4 0h-2V7h2v10zm4 0h-2v-4h2v4z\"/>\n",
              "    </g>\n",
              "</svg>\n",
              "  </button>\n",
              "\n",
              "<style>\n",
              "  .colab-df-quickchart {\n",
              "      --bg-color: #E8F0FE;\n",
              "      --fill-color: #1967D2;\n",
              "      --hover-bg-color: #E2EBFA;\n",
              "      --hover-fill-color: #174EA6;\n",
              "      --disabled-fill-color: #AAA;\n",
              "      --disabled-bg-color: #DDD;\n",
              "  }\n",
              "\n",
              "  [theme=dark] .colab-df-quickchart {\n",
              "      --bg-color: #3B4455;\n",
              "      --fill-color: #D2E3FC;\n",
              "      --hover-bg-color: #434B5C;\n",
              "      --hover-fill-color: #FFFFFF;\n",
              "      --disabled-bg-color: #3B4455;\n",
              "      --disabled-fill-color: #666;\n",
              "  }\n",
              "\n",
              "  .colab-df-quickchart {\n",
              "    background-color: var(--bg-color);\n",
              "    border: none;\n",
              "    border-radius: 50%;\n",
              "    cursor: pointer;\n",
              "    display: none;\n",
              "    fill: var(--fill-color);\n",
              "    height: 32px;\n",
              "    padding: 0;\n",
              "    width: 32px;\n",
              "  }\n",
              "\n",
              "  .colab-df-quickchart:hover {\n",
              "    background-color: var(--hover-bg-color);\n",
              "    box-shadow: 0 1px 2px rgba(60, 64, 67, 0.3), 0 1px 3px 1px rgba(60, 64, 67, 0.15);\n",
              "    fill: var(--button-hover-fill-color);\n",
              "  }\n",
              "\n",
              "  .colab-df-quickchart-complete:disabled,\n",
              "  .colab-df-quickchart-complete:disabled:hover {\n",
              "    background-color: var(--disabled-bg-color);\n",
              "    fill: var(--disabled-fill-color);\n",
              "    box-shadow: none;\n",
              "  }\n",
              "\n",
              "  .colab-df-spinner {\n",
              "    border: 2px solid var(--fill-color);\n",
              "    border-color: transparent;\n",
              "    border-bottom-color: var(--fill-color);\n",
              "    animation:\n",
              "      spin 1s steps(1) infinite;\n",
              "  }\n",
              "\n",
              "  @keyframes spin {\n",
              "    0% {\n",
              "      border-color: transparent;\n",
              "      border-bottom-color: var(--fill-color);\n",
              "      border-left-color: var(--fill-color);\n",
              "    }\n",
              "    20% {\n",
              "      border-color: transparent;\n",
              "      border-left-color: var(--fill-color);\n",
              "      border-top-color: var(--fill-color);\n",
              "    }\n",
              "    30% {\n",
              "      border-color: transparent;\n",
              "      border-left-color: var(--fill-color);\n",
              "      border-top-color: var(--fill-color);\n",
              "      border-right-color: var(--fill-color);\n",
              "    }\n",
              "    40% {\n",
              "      border-color: transparent;\n",
              "      border-right-color: var(--fill-color);\n",
              "      border-top-color: var(--fill-color);\n",
              "    }\n",
              "    60% {\n",
              "      border-color: transparent;\n",
              "      border-right-color: var(--fill-color);\n",
              "    }\n",
              "    80% {\n",
              "      border-color: transparent;\n",
              "      border-right-color: var(--fill-color);\n",
              "      border-bottom-color: var(--fill-color);\n",
              "    }\n",
              "    90% {\n",
              "      border-color: transparent;\n",
              "      border-bottom-color: var(--fill-color);\n",
              "    }\n",
              "  }\n",
              "</style>\n",
              "\n",
              "  <script>\n",
              "    async function quickchart(key) {\n",
              "      const quickchartButtonEl =\n",
              "        document.querySelector('#' + key + ' button');\n",
              "      quickchartButtonEl.disabled = true;  // To prevent multiple clicks.\n",
              "      quickchartButtonEl.classList.add('colab-df-spinner');\n",
              "      try {\n",
              "        const charts = await google.colab.kernel.invokeFunction(\n",
              "            'suggestCharts', [key], {});\n",
              "      } catch (error) {\n",
              "        console.error('Error during call to suggestCharts:', error);\n",
              "      }\n",
              "      quickchartButtonEl.classList.remove('colab-df-spinner');\n",
              "      quickchartButtonEl.classList.add('colab-df-quickchart-complete');\n",
              "    }\n",
              "    (() => {\n",
              "      let quickchartButtonEl =\n",
              "        document.querySelector('#df-0e680ad4-f184-4f6c-83cd-677c6254dc0c button');\n",
              "      quickchartButtonEl.style.display =\n",
              "        google.colab.kernel.accessAllowed ? 'block' : 'none';\n",
              "    })();\n",
              "  </script>\n",
              "</div>\n",
              "\n",
              "    </div>\n",
              "  </div>\n"
            ],
            "application/vnd.google.colaboratory.intrinsic+json": {
              "type": "dataframe",
              "variable_name": "df",
              "summary": "{\n  \"name\": \"df\",\n  \"rows\": 5000,\n  \"fields\": [\n    {\n      \"column\": \"sender\",\n      \"properties\": {\n        \"dtype\": \"string\",\n        \"num_unique_values\": 3615,\n        \"samples\": [\n          \"goraud weiheng <kretzsc-d@pzh.nl>\",\n          \"Bradly Langley <JerroldcompeteGuthrie@yahoo.com>\",\n          \"TechRepublic <zogs_rzjvdefe_xwpuzo_gsrzjvde@newsletters.online.com>\"\n        ],\n        \"semantic_type\": \"\",\n        \"description\": \"\"\n      }\n    },\n    {\n      \"column\": \"subject\",\n      \"properties\": {\n        \"dtype\": \"string\",\n        \"num_unique_values\": 2512,\n        \"samples\": [\n          \"Real sexual preparations which always work uzje xxvnc g\",\n          \"Big booty white girl rides black dick while being taped and exposed\",\n          \"Your 2007 Year-End Summary\"\n        ],\n        \"semantic_type\": \"\",\n        \"description\": \"\"\n      }\n    },\n    {\n      \"column\": \"body\",\n      \"properties\": {\n        \"dtype\": \"string\",\n        \"num_unique_values\": 5000,\n        \"samples\": [\n          \"Hello,\\n\\nI have figured out that I can shut down external usb drives with\\n\\n  sg_start /dev/sgX -s 0\\n\\nBut how do I find out which device a specific path belongs to?  For\\nexample, how can I find out that (currently) I need to shut down\\n/dev/sg3 if I want to shut down the disk that is on /media/some-disk?\\n\\nAny hints?\\n\\n\\n\",\n          \"On 9/28/07, Kenny Pitt  wrote: > That's true when reading messages in plain-text format.  If you read > an HTML-formatted message, though, the \\\"Info/Unsubscribe\\\" label is > actually a hyperlink itself and the target for the link is > \\\"http://mail.python.org/mailman/listinfo/spambayesInfo/Unsubscribe\\\". Hmm, this is a bit odd. I was going to go back and grab a copy of the HTML content from one of these messages showing the hyperlink, but it wasn't there. I read all my list mail in GMail, so I asked it to give me a copy of the \\\"original\\\" message source and the spambayesInfo URL doesn't appear anywhere in the source. The only mailing list footer is a plain-text only MIME section at the bottom of the message, yet when viewing that message inside GMail there is a clickable hyperlink that results in a \\\"mail.python.org Mailing Lists\\\" list page with the message \\\"No such list spambayesinfo\\\" at the top. It's almost as if GMail is inferring a hyperlink there, but I can't figure out why or where it came up with the link because the spambayesInfo name doesn't even appear in any of the mail header fields. If you're interested, here's the complete message source that I got back from GMail. You can see that it does contain an HTML-formatted version of the message in the multipart MIME, but it does *not* contain an HTML version of the mailing list footer. >From luhyvkqkl-hozvcoc@python.org  Wed May  7 23:53:27 2008 Delivered-To: jmmli.mikj@gmail.com Received: by 10.78.179.3 with SMTP id b3cs18640huf;         Fri, 28 Sep 2007 06:30:42 -0700 (PDT) Received: by 10.65.61.5 with SMTP id o5mr7604695qbk.1190986240022;         Fri, 28 Sep 2007 06:30:40 -0700 (PDT) Return-Path:  Received: from smtp-vbr7.xs4all.nl (smtp-vbr7.xs4all.nl [194.109.24.27])         by mx.google.com with ESMTP id 34si72702nfu.2007.09.28.06.30.23;         Fri, 28 Sep 2007 06:30:39 -0700 (PDT) Received-SPF: neutral (google.com: 194.109.24.27 is neither permitted nor denied by best guess record for domain of luhyvkqkl-hozvcoc@python.org) client-ip=194.109.24.27; Authentication-Results: mx.google.com; spf=neutral (google.com: 194.109.24.27 is neither permitted nor denied by best guess record for domain of luhyvkqkl-hozvcoc@python.org) agga.hirg=khoffwtea-ggahirg@python.org Received: from bag.python.org (bag.python.org [194.109.207.14]) \\tby smtp-vbr7.xs4all.nl (8.13.8/8.13.8) with ESMTP id l8SDSE7S010378; \\tFri, 28 Sep 2007 15:28:23 +0200 (CEST) \\t(envelope-from luhyvkqkl-hozvcoc@python.org) Received: from bag.python.org (bag [127.0.0.1]) \\tby bag.python.org (Postfix) with ESMTP id 6F8091E400F; \\tFri, 28 Sep 2007 15:28:14 +0200 (CEST) X-Original-To: ttrbkgvhb@python.org Delivered-To: ttrbkgvhb@bag.python.org Received: from bag.python.org (bag [127.0.0.1]) \\tby bag.python.org (Postfix) with ESMTP id 92F5D1E400D \\tfor ; Fri, 28 Sep 2007 15:28:12 +0200 (CEST) X-Spam-Status: OK 0.283 X-Spam-Level: ** Received: from bag (HELO bag.python.org) (127.0.0.1) \\tby bag.python.org with SMTP; 28 Sep 2007 15:28:12 +0200 Received: from mailrelay.embarq.synacor.com (mailrelay.embarq.synacor.com \\t[208.47.184.3]) by bag.python.org (Postfix) with ESMTP \\tfor ; Fri, 28 Sep 2007 15:28:09 +0200 (CEST) X_CMAE_Category: 0,0 Undefined,Undefined X-CNFS-Analysis: v=1.0 c=1 a=bDZf-hiUAAAA:8 a=uZaO26zKCG1hwd7DcXwA:9 \\ta=JLoLedn8_sZQlPhFTrYA:7 a=eWcznnakSMoiXw2l1nXcckFRakAA:4 \\ta=begle0EBvngA:10 a=8UrxtZQlJLQA:10 a=CJge89XrRHUA:10 \\ta=rl0z1pC05qIA:10 a=igkdSQrOE6AA:10 a=UAZALQJaam5NKcqJVAYA:9 \\ta=9E8deBQlciORg-mNlxIA:7 a=tfy5mZt21pgCrgPk0T-vlZi79JMA:4 \\ta=AfD3MYMu9mQA:10 X-CM-Score: 0 X-Scanned-by: Cloudmark Authority Engine Authentication-Results: smtp08.embarq.synacor.com \\tyimm.euud=ucjv@hardwooddesigns.com; spf=unknown Authentication-Results: smtp08.embarq.synacor.com \\twolh.ixge=xlnvpebwwolhi@embarqmail.com; auth=pass (LOGIN) Received-SPF: error (smtp08.embarq.synacor.com: 63.162.203.184 is neither \\tpermitted nor denied by domain of hardwooddesigns.com Received: from [63.162.203.184] ([63.162.203.184:42497] helo=JANPC) \\tby mailrelay.embarq.synacor.com (envelope-from \\t) (ecelerity 2.2.0.18 r(18773)) with ESMTPA \\tid 87/C0-15541-8610DF64; Fri, 28 Sep 2007 09:28:08 -0400 From: \\\"Jan Bouterse\\\"  To:  Date: Fri, 28 Sep 2007 09:28:08 -0400 Message-ID: <001101c801d3$68c00100$0e01a8c0@hardwood.local> MIME-Version: 1.0 X-Mailer: Microsoft Office Outlook 11 Thread-Index: AcgB02f+3gdRmfsYQUChkF/j3Ig8Xw== X-MimeOLE: Produced By Microsoft MimeOLE V6.00.2900.3138 Subject: [Spambayes] question X-BeenThere: ttrbkgvhb@python.org X-Mailman-Version: 2.1.9 Precedence: list List-Id: Discussion list for Pythonic Bayesian classifier \\t List-Unsubscribe: , \\t List-Archive:  List-Post:  List-Help:  List-Subscribe: , \\t Content-Type: multipart/mixed; boundary=\\\"===============0576480163==\\\" Sender: luhyvkqkl-hozvcoc@python.org Errors-To: luhyvkqkl-hozvcoc@python.org X-Virus-Scanned: by XS4ALL Virus Scanner This is a multi-part message in MIME format. --===============0576480163== Content-Type: multipart/alternative; \\tboundary=\\\"----=_NextPart_000_0012_01C801B1.E1AE6100\\\" This is a multi-part message in MIME format. ------=_NextPart_000_0012_01C801B1.E1AE6100 Content-Type: text/plain; \\tcharset=\\\"US-ASCII\\\" Content-Transfer-Encoding: 7bit First, let me commend you on your awesome program! Please let me know how I get writ of the SPAM-LOW that appears in front of some of the subjects in outlook's \\\"subject field\\\" I thank you in advance, Jan Bouterse, Director of Business Development Hardwood Designs, Inc. 511 Valley Forge Rd. Hillsborough, NC 27278 phone  919-643-1100 fax  919-643-1101 www.hardwooddesigns.com \\\"The information contained in this correspondence may be considered confidential and proprietary. Distribute only by the express authority of Hardwood Designs Inc.\\\" ------=_NextPart_000_0012_01C801B1.E1AE6100 Content-Type: text/html; \\tcharset=\\\"US-ASCII\\\" Content-Transfer-Encoding: quoted-printable question First, let me commend you on your = awesome program! Please let me know how I get writ of = the SPAM-LOW that appears in front of some of the subjects in outlook's = \\\"subject field\\\" I thank you in advance, Jan Bouterse, Director of Business = Development Hardwood Designs, Inc. 511 Valley Forge Rd. Hillsborough, NC 27278 phone\\u00a0 919-643-1100 fax\\u00a0 919-643-1101 www.hardwooddesigns.com \\\"The information contained in = this correspondence may be considered confidential and proprietary. = Distribute only by the express authority of Hardwood Designs = Inc.\\\" ------=_NextPart_000_0012_01C801B1.E1AE6100-- --===============0576480163== Content-Type: text/plain; charset=\\\"us-ascii\\\" MIME-Version: 1.0 Content-Transfer-Encoding: 7bit Content-Disposition: inline _______________________________________________ ttrbkgvhb@python.org http://mail.python.org/mailman/listinfo/spambayes Info/Unsubscribe: http://mail.python.org/mailman/listinfo/spambayes Check the FAQ before asking: http://spambayes.sf.net/faq.html --===============0576480163==-- --  Kenny Pitt _______________________________________________ spambayes-dev mailing list bsfegmjrr-hnq@python.org http://mail.python.org/mailman/listinfo/spambayes-dev\",\n          \"\\nIf you are looking for trustworthy chemists shop. You wont find better assortment than our site. We\\nhave everything to cure of  deseasess.Even if you need prompt delivery you can always \\ntrust us. Obtain the most experienced help as fast as a mouse click.\\n\\nshortyour.com\\n\\n5 Aug 2008 19:46:05\\n\\nfd2\\nchip\\n\\n\\n\"\n        ],\n        \"semantic_type\": \"\",\n        \"description\": \"\"\n      }\n    },\n    {\n      \"column\": \"label\",\n      \"properties\": {\n        \"dtype\": \"number\",\n        \"std\": 0,\n        \"min\": 0,\n        \"max\": 1,\n        \"num_unique_values\": 2,\n        \"samples\": [\n          0,\n          1\n        ],\n        \"semantic_type\": \"\",\n        \"description\": \"\"\n      }\n    },\n    {\n      \"column\": \"urls\",\n      \"properties\": {\n        \"dtype\": \"number\",\n        \"std\": 0,\n        \"min\": 0,\n        \"max\": 1,\n        \"num_unique_values\": 2,\n        \"samples\": [\n          0,\n          1\n        ],\n        \"semantic_type\": \"\",\n        \"description\": \"\"\n      }\n    },\n    {\n      \"column\": \"text\",\n      \"properties\": {\n        \"dtype\": \"string\",\n        \"num_unique_values\": 4996,\n        \"samples\": [\n          \"Katerina age 29 -on dating  --------------------------------------------------------------\\nDating\\nKaterina age 29  From: Logan, Utah, United States of America:\\nhttp://tyialypehuq.narod.ru/?q=PiiCSK2cRd1quk3\\n\\n-----------------------------------------------\\n\\n\\n\\n\\n\\n\\n\\n\\n\\n\\n\\n\\n\\n\\n\\n\\n\\n\\n\\n\\n\\n\\n\\n\\n\\n\\n\\n\\n\\n\\n\",\n          \"Re: [Python-Dev] Python 2.6 and 3.0 ...and applink.c? I won't pretend to know where the *best* place to put the include is, but python.c was suggested to me some time ago.  Just so you know, we tried putting the include in some C code that is part of M2Crypto and it did not work because, as we discovered, the applink table needs to be part of main().  \\n\\nExtending that thought...  If somebody wanted to somehow embed python is part of the same process in their program as with perhaps IIS, I submit it would not be part of main() and therefore benign.\\n\\nNow, I would like very much to be in a position to experiment with all the combinations and prepare a patch that worked, but I do not have the requisite Microsoft toolset.  I primarily work with gcc under OSX, Linux, cygwin/mingw.  \\n\\nThis last raises a curiosity question.  Is there a reason why Python.exe cannot be built using gcc instead of Visual Studio?  Would not requiring the same VS version cause a problem in the field if someone were to receive an extension but had their Python built using a different version of VS?  It seems building everything with gcc would get around the problem of having to match VS versions.  ...or are we dependent on some specific Microsoft library?  I dunno, I gotta ask.\\n\\nLarry\\n\\n\\n  -----Original Message-----\\n  From: \\\"Martin v. L\\u00f6wis\\\" [mailto:qpnysl@v.loewis.de] \\n  Sent: Tuesday, February 26, 2008 1:10 PM\\n  To: Christian Heimes\\n  Cc: Bill Janssen; Bugbee, Larry; zvllln-eum@python.org\\n  Subject: Re: [Python-Dev] Python 2.6 and 3.0 ...and applink.c?\\n  \\n  > Do you have an opinion on the initial proposal of applink.c? \\n  > The proposal does neither seem harmful nor problematic but I \\n  > also don't see how it is going to help the op.\\n  \\n  The specific change isn't going to help. What could help is the \\n  inclusion of applink.c into dl_nt.c.\\n  \\n  This is not about somehow exposing SSL routines to other \\n  libraries, but about exposing CRT stuff to openssl, \\n  specifically stdin/stdout/stderr, fprintf, fgets, fwrite, \\n  fsetmod, feof, ferror, clearerr, fileno, _open, _read, _write, \\n  _lseek, _close.\\n  \\n  Actually, re-reading OpenSSL, adding it to python.exe (and \\n  probably pythonw.exe) would help: They do GetModuleHandle(NULL) \\n  (which is the handle to the executable), then GetProcAddress \\n  for OPENSSL_Applink.\\n  \\n  So I think it's harmless and could help, except for the \\n  maintenance burden of having to update our local copy of \\n  applink.c every time OpenSSL adds a new slot to their applink \\n  table (which they should rarely do).\\n  \\n  Of course, the entire approach breaks in cases where Python \\n  gets embedded: if, e.g., IIS loads the Python interpreter as \\n  a COM scripting host, it would be the IIS executable which \\n  would have to include applink.c :-) As IIS doesn't, extension \\n  modules that link with their own OpenSSL will continue to \\n  produce a warning about the missing applink when they run in \\n  the context of a COM server (or some other Python embedding).\\n  \\n  Regards,\\n  Martin\\n  \\n_______________________________________________\\nPython-Dev mailing list\\nzvllln-eum@python.org\\nhttp://mail.python.org/mailman/listinfo/python-dev\\nUnsubscribe: http://mail.python.org/mailman/options/python-dev/python-dev%40tangomu.com\\n\\n\\n\\n\"\n        ],\n        \"semantic_type\": \"\",\n        \"description\": \"\"\n      }\n    }\n  ]\n}"
            }
          },
          "metadata": {},
          "execution_count": 8
        }
      ]
    },
    {
      "cell_type": "code",
      "source": [
        "# Split into independent and dependent variables\n",
        "X = df['body']\n",
        "y = df['label']\n",
        "print(f\"X shape = {X.shape}\")\n",
        "print(f\"y shape = {y.shape}\")"
      ],
      "metadata": {
        "colab": {
          "base_uri": "https://localhost:8080/"
        },
        "id": "uyvTD1nehVHZ",
        "outputId": "df45bd7d-6025-4953-aa9d-d51215a2878f"
      },
      "execution_count": 9,
      "outputs": [
        {
          "output_type": "stream",
          "name": "stdout",
          "text": [
            "X shape = (5000,)\n",
            "y shape = (5000,)\n"
          ]
        }
      ]
    },
    {
      "cell_type": "code",
      "source": [
        "# Split the data\n",
        "X_train, X_test, y_train, y_test = train_test_split(\n",
        "    X, y, test_size=0.25, random_state=42\n",
        ")"
      ],
      "metadata": {
        "id": "g8Yh3Kcygn92"
      },
      "execution_count": 10,
      "outputs": []
    },
    {
      "cell_type": "code",
      "source": [
        "# Create the TF-IDF vectorizer\n",
        "vectorizer = TfidfVectorizer()\n",
        "\n",
        "# Data preprocessing\n",
        "train_data = vectorizer.fit_transform(X_train)\n",
        "test_data = vectorizer.transform(X_test)\n",
        "\n",
        "# Convert to arrays for training\n",
        "train_data = train_data.toarray()\n",
        "test_data = test_data.toarray()"
      ],
      "metadata": {
        "id": "BUdwS2nWkejS"
      },
      "execution_count": 11,
      "outputs": []
    },
    {
      "cell_type": "code",
      "source": [
        "print(f\"X_train shape = {X_train.shape}\")\n",
        "print(f\"y_train shape = {y_train.shape}\")"
      ],
      "metadata": {
        "colab": {
          "base_uri": "https://localhost:8080/"
        },
        "id": "-PM2b5mmlMZA",
        "outputId": "c92d9af6-8db0-4eaa-9518-ccda52a45d61"
      },
      "execution_count": 12,
      "outputs": [
        {
          "output_type": "stream",
          "name": "stdout",
          "text": [
            "X_train shape = (3750,)\n",
            "y_train shape = (3750,)\n"
          ]
        }
      ]
    },
    {
      "cell_type": "code",
      "source": [
        "# Build a Naive Bayes Classifier\n",
        "model = GaussianNB()\n",
        "\n",
        "# Model training\n",
        "model.fit(train_data, y_train)"
      ],
      "metadata": {
        "colab": {
          "base_uri": "https://localhost:8080/",
          "height": 75
        },
        "id": "gm3kYYHRikkt",
        "outputId": "607dcec6-7917-4a96-bd34-96760d08ee54"
      },
      "execution_count": 13,
      "outputs": [
        {
          "output_type": "execute_result",
          "data": {
            "text/plain": [
              "GaussianNB()"
            ],
            "text/html": [
              "<style>#sk-container-id-1 {color: black;}#sk-container-id-1 pre{padding: 0;}#sk-container-id-1 div.sk-toggleable {background-color: white;}#sk-container-id-1 label.sk-toggleable__label {cursor: pointer;display: block;width: 100%;margin-bottom: 0;padding: 0.3em;box-sizing: border-box;text-align: center;}#sk-container-id-1 label.sk-toggleable__label-arrow:before {content: \"▸\";float: left;margin-right: 0.25em;color: #696969;}#sk-container-id-1 label.sk-toggleable__label-arrow:hover:before {color: black;}#sk-container-id-1 div.sk-estimator:hover label.sk-toggleable__label-arrow:before {color: black;}#sk-container-id-1 div.sk-toggleable__content {max-height: 0;max-width: 0;overflow: hidden;text-align: left;background-color: #f0f8ff;}#sk-container-id-1 div.sk-toggleable__content pre {margin: 0.2em;color: black;border-radius: 0.25em;background-color: #f0f8ff;}#sk-container-id-1 input.sk-toggleable__control:checked~div.sk-toggleable__content {max-height: 200px;max-width: 100%;overflow: auto;}#sk-container-id-1 input.sk-toggleable__control:checked~label.sk-toggleable__label-arrow:before {content: \"▾\";}#sk-container-id-1 div.sk-estimator input.sk-toggleable__control:checked~label.sk-toggleable__label {background-color: #d4ebff;}#sk-container-id-1 div.sk-label input.sk-toggleable__control:checked~label.sk-toggleable__label {background-color: #d4ebff;}#sk-container-id-1 input.sk-hidden--visually {border: 0;clip: rect(1px 1px 1px 1px);clip: rect(1px, 1px, 1px, 1px);height: 1px;margin: -1px;overflow: hidden;padding: 0;position: absolute;width: 1px;}#sk-container-id-1 div.sk-estimator {font-family: monospace;background-color: #f0f8ff;border: 1px dotted black;border-radius: 0.25em;box-sizing: border-box;margin-bottom: 0.5em;}#sk-container-id-1 div.sk-estimator:hover {background-color: #d4ebff;}#sk-container-id-1 div.sk-parallel-item::after {content: \"\";width: 100%;border-bottom: 1px solid gray;flex-grow: 1;}#sk-container-id-1 div.sk-label:hover label.sk-toggleable__label {background-color: #d4ebff;}#sk-container-id-1 div.sk-serial::before {content: \"\";position: absolute;border-left: 1px solid gray;box-sizing: border-box;top: 0;bottom: 0;left: 50%;z-index: 0;}#sk-container-id-1 div.sk-serial {display: flex;flex-direction: column;align-items: center;background-color: white;padding-right: 0.2em;padding-left: 0.2em;position: relative;}#sk-container-id-1 div.sk-item {position: relative;z-index: 1;}#sk-container-id-1 div.sk-parallel {display: flex;align-items: stretch;justify-content: center;background-color: white;position: relative;}#sk-container-id-1 div.sk-item::before, #sk-container-id-1 div.sk-parallel-item::before {content: \"\";position: absolute;border-left: 1px solid gray;box-sizing: border-box;top: 0;bottom: 0;left: 50%;z-index: -1;}#sk-container-id-1 div.sk-parallel-item {display: flex;flex-direction: column;z-index: 1;position: relative;background-color: white;}#sk-container-id-1 div.sk-parallel-item:first-child::after {align-self: flex-end;width: 50%;}#sk-container-id-1 div.sk-parallel-item:last-child::after {align-self: flex-start;width: 50%;}#sk-container-id-1 div.sk-parallel-item:only-child::after {width: 0;}#sk-container-id-1 div.sk-dashed-wrapped {border: 1px dashed gray;margin: 0 0.4em 0.5em 0.4em;box-sizing: border-box;padding-bottom: 0.4em;background-color: white;}#sk-container-id-1 div.sk-label label {font-family: monospace;font-weight: bold;display: inline-block;line-height: 1.2em;}#sk-container-id-1 div.sk-label-container {text-align: center;}#sk-container-id-1 div.sk-container {/* jupyter's `normalize.less` sets `[hidden] { display: none; }` but bootstrap.min.css set `[hidden] { display: none !important; }` so we also need the `!important` here to be able to override the default hidden behavior on the sphinx rendered scikit-learn.org. See: https://github.com/scikit-learn/scikit-learn/issues/21755 */display: inline-block !important;position: relative;}#sk-container-id-1 div.sk-text-repr-fallback {display: none;}</style><div id=\"sk-container-id-1\" class=\"sk-top-container\"><div class=\"sk-text-repr-fallback\"><pre>GaussianNB()</pre><b>In a Jupyter environment, please rerun this cell to show the HTML representation or trust the notebook. <br />On GitHub, the HTML representation is unable to render, please try loading this page with nbviewer.org.</b></div><div class=\"sk-container\" hidden><div class=\"sk-item\"><div class=\"sk-estimator sk-toggleable\"><input class=\"sk-toggleable__control sk-hidden--visually\" id=\"sk-estimator-id-1\" type=\"checkbox\" checked><label for=\"sk-estimator-id-1\" class=\"sk-toggleable__label sk-toggleable__label-arrow\">GaussianNB</label><div class=\"sk-toggleable__content\"><pre>GaussianNB()</pre></div></div></div></div></div>"
            ]
          },
          "metadata": {},
          "execution_count": 13
        }
      ]
    },
    {
      "cell_type": "code",
      "source": [
        "# Predictions\n",
        "y_pred = model.predict(test_data)\n",
        "\n",
        "# Performance Metrics\n",
        "accuracy = accuracy_score(y_test, y_pred)\n",
        "precision = precision_score(y_test, y_pred)\n",
        "recall = recall_score(y_test, y_pred)\n",
        "f1 = f1_score(y_test, y_pred)\n",
        "\n",
        "print(f\"Accuracy: {accuracy:.4f}\")\n",
        "print(f\"Precision: {precision:.4f}\")\n",
        "print(f\"Recall: {recall:.4f}\")\n",
        "print(f\"F1-score: {f1:.4f}\")"
      ],
      "metadata": {
        "colab": {
          "base_uri": "https://localhost:8080/"
        },
        "id": "hqfUkldOpBo0",
        "outputId": "b1d9b189-c752-4e4a-80c6-215503dab79f"
      },
      "execution_count": 19,
      "outputs": [
        {
          "output_type": "stream",
          "name": "stdout",
          "text": [
            "Accuracy: 0.9600\n",
            "Precision: 0.9985\n",
            "Recall: 0.9325\n",
            "F1-score: 0.9644\n"
          ]
        }
      ]
    },
    {
      "cell_type": "code",
      "source": [],
      "metadata": {
        "id": "zG_FC_5YpshN"
      },
      "execution_count": null,
      "outputs": []
    }
  ]
}